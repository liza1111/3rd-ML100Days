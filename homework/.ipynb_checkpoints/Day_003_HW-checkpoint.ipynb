{
 "cells": [
  {
   "cell_type": "markdown",
   "metadata": {},
   "source": [
    "[作業目標]\n",
    "持續接觸有關機器學習的相關專案與最新技術\n",
    "\n",
    "[作業重點]\n",
    "透過觀察頂尖公司的機器學習文章，來了解各公司是怎麼應用機器學習在實際的專案上\n",
    "\n",
    "[作業]\n",
    "今天的作業希望大家能夠看看全球機器學習巨頭們在做的機器學習專案。以 google 為例，下圖是 Google 內部專案使用機器學習的數量，隨著時間進展，現在早已超過 2000 個專案在使用機器學習。"
   ]
  },
  {
   "cell_type": "markdown",
   "metadata": {},
   "source": [
    "作業 1：目標\n",
    "\n",
    "https://machinelearning.apple.com/2017/09/12/handwriting.html\n",
    "在APPLE相關產品上REAL TIME判斷中文手寫字\n",
    "\n",
    "作業 2：方法\n",
    "\n",
    "CNN\n",
    "\n",
    "作業 3：資料來源\n",
    "\n",
    "收集30,000個中文常使用的字進行學習"
   ]
  }
 ],
 "metadata": {
  "kernelspec": {
   "display_name": "Python 3",
   "language": "python",
   "name": "python3"
  },
  "language_info": {
   "codemirror_mode": {
    "name": "ipython",
    "version": 3
   },
   "file_extension": ".py",
   "mimetype": "text/x-python",
   "name": "python",
   "nbconvert_exporter": "python",
   "pygments_lexer": "ipython3",
   "version": "3.7.0"
  }
 },
 "nbformat": 4,
 "nbformat_minor": 2
}
