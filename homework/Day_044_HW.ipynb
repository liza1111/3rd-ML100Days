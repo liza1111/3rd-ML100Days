{
 "cells": [
  {
   "cell_type": "markdown",
   "metadata": {},
   "source": [
    "## [作業重點]\n",
    "確保你了解隨機森林模型中每個超參數的意義，並觀察調整超參數對結果的影響"
   ]
  },
  {
   "cell_type": "markdown",
   "metadata": {},
   "source": [
    "## 作業\n",
    "\n",
    "1. 試著調整 RandomForestClassifier(...) 中的參數，並觀察是否會改變結果？\n",
    "2. 改用其他資料集 (boston, wine)，並與回歸模型與決策樹的結果進行比較"
   ]
  },
  {
   "cell_type": "code",
   "execution_count": 2,
   "metadata": {},
   "outputs": [],
   "source": [
    "from sklearn import datasets, metrics\n",
    "from sklearn.ensemble import RandomForestClassifier\n",
    "from sklearn.ensemble import RandomForestRegressor\n",
    "from sklearn.model_selection import train_test_split\n",
    "import warnings\n",
    "warnings.filterwarnings('ignore')\n",
    "import numpy as np\n",
    "import pandas as pd"
   ]
  },
  {
   "cell_type": "markdown",
   "metadata": {},
   "source": [
    "BOSTON"
   ]
  },
  {
   "cell_type": "code",
   "execution_count": 13,
   "metadata": {},
   "outputs": [
    {
     "name": "stdout",
     "output_type": "stream",
     "text": [
      "0.836828700805618\n"
     ]
    },
    {
     "data": {
      "text/plain": [
       "array([0.04515273, 0.0007793 , 0.00393725, 0.00195563, 0.01478092,\n",
       "       0.58045238, 0.00684049, 0.04205919, 0.00256253, 0.01521738,\n",
       "       0.02233019, 0.00653057, 0.25740145])"
      ]
     },
     "execution_count": 13,
     "metadata": {},
     "output_type": "execute_result"
    }
   ],
   "source": [
    "#資料\n",
    "boston = datasets.load_boston()\n",
    "x = boston.data\n",
    "y = boston.target\n",
    "\n",
    "#切割資料\n",
    "x_train , x_test , y_train, y_test = train_test_split(x,y,test_size = 0.25, random_state = 4)\n",
    "\n",
    "#模型 (RM理論不需要做cross_validation，本身已經在feature和data重複抽樣取平均)\n",
    "rm_b = RandomForestRegressor(n_estimators=10, max_depth=5)\n",
    "rm_b.fit(x_train,y_train)\n",
    "pre = rm_b.predict(x_test)\n",
    "\n",
    "#衡量\n",
    "from sklearn.metrics import r2_score\n",
    "print(r2_score(y_test,pre))#r2=1可能overfitting，r2>0.7以上都具高度解釋力)\n",
    "\n",
    "#feature_importance \n",
    "b = rm_b.feature_importances_\n",
    "b"
   ]
  },
  {
   "cell_type": "code",
   "execution_count": 12,
   "metadata": {},
   "outputs": [
    {
     "data": {
      "text/html": [
       "<div>\n",
       "<style scoped>\n",
       "    .dataframe tbody tr th:only-of-type {\n",
       "        vertical-align: middle;\n",
       "    }\n",
       "\n",
       "    .dataframe tbody tr th {\n",
       "        vertical-align: top;\n",
       "    }\n",
       "\n",
       "    .dataframe thead th {\n",
       "        text-align: right;\n",
       "    }\n",
       "</style>\n",
       "<table border=\"1\" class=\"dataframe\">\n",
       "  <thead>\n",
       "    <tr style=\"text-align: right;\">\n",
       "      <th></th>\n",
       "      <th>CRIM</th>\n",
       "      <th>ZN</th>\n",
       "      <th>INDUS</th>\n",
       "      <th>CHAS</th>\n",
       "      <th>NOX</th>\n",
       "      <th>RM</th>\n",
       "      <th>AGE</th>\n",
       "      <th>DIS</th>\n",
       "      <th>RAD</th>\n",
       "      <th>TAX</th>\n",
       "      <th>PTRATIO</th>\n",
       "      <th>B</th>\n",
       "      <th>LSTAT</th>\n",
       "    </tr>\n",
       "  </thead>\n",
       "  <tbody>\n",
       "    <tr>\n",
       "      <td>tree</td>\n",
       "      <td>0.065564</td>\n",
       "      <td>0.000154</td>\n",
       "      <td>0.003607</td>\n",
       "      <td>0.0</td>\n",
       "      <td>0.006602</td>\n",
       "      <td>0.48224</td>\n",
       "      <td>0.002302</td>\n",
       "      <td>0.0393</td>\n",
       "      <td>0.001199</td>\n",
       "      <td>0.006376</td>\n",
       "      <td>0.010558</td>\n",
       "      <td>0.003558</td>\n",
       "      <td>0.37854</td>\n",
       "    </tr>\n",
       "  </tbody>\n",
       "</table>\n",
       "</div>"
      ],
      "text/plain": [
       "          CRIM        ZN     INDUS  CHAS       NOX       RM       AGE     DIS  \\\n",
       "tree  0.065564  0.000154  0.003607   0.0  0.006602  0.48224  0.002302  0.0393   \n",
       "\n",
       "           RAD       TAX   PTRATIO         B    LSTAT  \n",
       "tree  0.001199  0.006376  0.010558  0.003558  0.37854  "
      ]
     },
     "execution_count": 12,
     "metadata": {},
     "output_type": "execute_result"
    }
   ],
   "source": [
    "df_b = pd.DataFrame(np.array([b]),columns=boston[\"feature_names\"],index = [\"tree\"])\n",
    "df_b"
   ]
  },
  {
   "cell_type": "code",
   "execution_count": 14,
   "metadata": {},
   "outputs": [
    {
     "name": "stdout",
     "output_type": "stream",
     "text": [
      "Coefficients:  [-1.18901558e-01  5.05689401e-02 -1.07427433e-02  3.66184857e+00\n",
      " -1.52957329e+01  3.39316181e+00 -5.91222130e-03 -1.49234402e+00\n",
      "  3.33696220e-01 -1.50593743e-02 -8.69475207e-01  8.80571095e-03\n",
      " -4.92763225e-01]\n"
     ]
    },
    {
     "data": {
      "text/plain": [
       "0.7313816523148398"
      ]
     },
     "execution_count": 14,
     "metadata": {},
     "output_type": "execute_result"
    }
   ],
   "source": [
    "#boston_線性回歸\n",
    "# 讀取資料集\n",
    "boston = datasets.load_boston()\n",
    "\n",
    "# 切分訓練集/測試集\n",
    "x_train, x_test, y_train, y_test = train_test_split(boston.data, boston.target, test_size=0.25, random_state=4)\n",
    "\n",
    "#線性模型\n",
    "from sklearn import datasets, linear_model\n",
    "from sklearn.metrics import mean_squared_error, r2_score\n",
    "reg = linear_model.LinearRegression()\n",
    "reg.fit(x_train, y_train)\n",
    "pre = reg.predict(x_test)\n",
    "\n",
    "#衡量\n",
    "# 可以看回歸模型的參數值\n",
    "a_reg = reg.coef_\n",
    "print('Coefficients: ', reg.coef_)\n",
    "\n",
    "# 預測值與實際值的差距，使用 r2\n",
    "print(r2_score(y_test,pre)\n",
    "print('rm0.83,表現較線性模型好')"
   ]
  },
  {
   "cell_type": "markdown",
   "metadata": {},
   "source": [
    "wine"
   ]
  },
  {
   "cell_type": "code",
   "execution_count": 19,
   "metadata": {},
   "outputs": [
    {
     "name": "stdout",
     "output_type": "stream",
     "text": [
      "Acuuracy:  0.9777777777777777\n"
     ]
    },
    {
     "data": {
      "text/plain": [
       "array([0.12368923, 0.04723456, 0.01435373, 0.00841191, 0.03268023,\n",
       "       0.0059968 , 0.23449327, 0.00556028, 0.02825363, 0.12529447,\n",
       "       0.07969007, 0.10095765, 0.19338416])"
      ]
     },
     "execution_count": 19,
     "metadata": {},
     "output_type": "execute_result"
    }
   ],
   "source": [
    "#資料\n",
    "wine = datasets.load_wine()\n",
    "x = wine.data\n",
    "y = wine.target\n",
    "\n",
    "#切割資料\n",
    "x_train , x_test , y_train, y_test = train_test_split(x,y,test_size = 0.25, random_state = 4)\n",
    "\n",
    "#模型 (RM理論不需要做cross_validation，本身已經在feature和data重複抽樣取平均)\n",
    "rm_b = RandomForestClassifier(n_estimators=10, max_depth=5)\n",
    "rm_b.fit(x_train,y_train)\n",
    "pre = rm_b.predict(x_test)\n",
    "\n",
    "#衡量\n",
    "acc = metrics.accuracy_score(y_test, pre)\n",
    "print(\"Acuuracy: \", acc) \n",
    "\n",
    "#feature_importance \n",
    "c = rm_b.feature_importances_\n",
    "c"
   ]
  },
  {
   "cell_type": "code",
   "execution_count": 17,
   "metadata": {},
   "outputs": [
    {
     "name": "stdout",
     "output_type": "stream",
     "text": [
      "Coefficients:  [[-6.94910992e-01  7.12395870e-01  9.60462398e-01 -5.57102447e-01\n",
      "  -2.57710101e-02  3.15635484e-01  1.12894704e+00 -2.37975834e-02\n",
      "  -4.93718650e-01  2.24935544e-02 -1.58469551e-01  8.84169254e-01\n",
      "   1.71876543e-02]\n",
      " [ 9.57582868e-01 -1.06759385e+00 -5.26772201e-01  2.71787736e-01\n",
      "  -6.86861613e-03 -3.52175937e-02  4.22859141e-01  3.78783233e-01\n",
      "   7.60235104e-01 -1.99086425e+00  7.92398393e-01  3.05087814e-01\n",
      "  -1.28524565e-02]\n",
      " [-3.51691976e-01  4.77603377e-01 -1.05559248e-01  9.62772108e-02\n",
      "   3.64991817e-02 -6.55093295e-01 -1.56437365e+00 -7.33694747e-02\n",
      "  -7.76253705e-01  1.20507592e+00 -4.45891716e-01 -1.18124573e+00\n",
      "  -1.58834297e-03]]\n",
      "Acuuracy:  0.9333333333333333\n"
     ]
    }
   ],
   "source": [
    "#wine_線性回歸\n",
    "# 讀取資料集\n",
    "wine = datasets.load_wine()\n",
    "\n",
    "# 切分訓練集/測試集\n",
    "x_train, x_test, y_train, y_test = train_test_split(wine.data, wine.target, test_size=0.25, random_state=4)\n",
    "\n",
    "#線性模型\n",
    "from sklearn import datasets, linear_model\n",
    "from sklearn.metrics import mean_squared_error, r2_score\n",
    "reg = linear_model.LogisticRegression()\n",
    "reg.fit(x_train, y_train)\n",
    "pre = reg.predict(x_test)\n",
    "\n",
    "#衡量\n",
    "# 可以看回歸模型的參數值\n",
    "print('Coefficients: ', reg.coef_)\n",
    "c =  reg.coef_\n",
    "# 衡量\n",
    "acc = metrics.accuracy_score(y_test, pre)\n",
    "print(\"Acuuracy: \", acc) \n",
    "print('rm0.93,表現較logistic模型好')"
   ]
  },
  {
   "cell_type": "code",
   "execution_count": null,
   "metadata": {},
   "outputs": [],
   "source": []
  }
 ],
 "metadata": {
  "kernelspec": {
   "display_name": "Python 3",
   "language": "python",
   "name": "python3"
  },
  "language_info": {
   "codemirror_mode": {
    "name": "ipython",
    "version": 3
   },
   "file_extension": ".py",
   "mimetype": "text/x-python",
   "name": "python",
   "nbconvert_exporter": "python",
   "pygments_lexer": "ipython3",
   "version": "3.7.4"
  }
 },
 "nbformat": 4,
 "nbformat_minor": 2
}
