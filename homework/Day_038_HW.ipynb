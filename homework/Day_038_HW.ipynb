{
 "cells": [
  {
   "cell_type": "markdown",
   "metadata": {},
   "source": [
    "## [作業重點]\n",
    "使用 Sklearn 中的線性迴歸模型，來訓練各種資料集，務必了解送進去模型訓練的**資料型態**為何，也請了解模型中各項參數的意義"
   ]
  },
  {
   "cell_type": "markdown",
   "metadata": {},
   "source": [
    "## 作業\n",
    "試著使用 sklearn datasets 的其他資料集 (wine, boston, ...)，來訓練自己的線性迴歸模型。"
   ]
  },
  {
   "cell_type": "markdown",
   "metadata": {},
   "source": [
    "### HINT: 注意 label 的型態，確定資料集的目標是分類還是回歸，在使用正確的模型訓練！"
   ]
  },
  {
   "cell_type": "code",
   "execution_count": 31,
   "metadata": {},
   "outputs": [],
   "source": [
    "import numpy as np\n",
    "import matplotlib.pyplot as plt\n",
    "from sklearn import datasets, linear_model\n",
    "from sklearn.model_selection import train_test_split\n",
    "from sklearn.metrics import mean_squared_error, r2_score, accuracy_score\n",
    "import pandas as pd\n",
    "import warnings\n",
    "warnings.filterwarnings(\"ignore\")"
   ]
  },
  {
   "cell_type": "markdown",
   "metadata": {},
   "source": [
    "##  linear regression - boston data"
   ]
  },
  {
   "cell_type": "code",
   "execution_count": 20,
   "metadata": {
    "scrolled": true
   },
   "outputs": [
    {
     "data": {
      "text/plain": [
       "array([11.46030778, 26.80269335, 17.43478925, 17.5563101 , 37.39156424,\n",
       "       25.07675556, 31.05825852, 20.30845531, 19.66757374, 22.82655375,\n",
       "       28.47083056, 28.53331605, 18.72883256, 33.11375161, 21.34282974,\n",
       "       15.20554693, 21.57309275, 10.92841589, 11.69603405, 13.54311508,\n",
       "        5.07126801, 17.40464043, 20.69379268, 22.72981238, 16.4634139 ,\n",
       "       20.42666271, 17.53377349, 14.22644356, 21.56292745, 17.33136115,\n",
       "       14.28888479, 23.92829804, 34.31523522, 22.03799035, 17.47895779,\n",
       "       20.20386005, 30.70896335, 35.21599528, 24.07063567, 24.51445184,\n",
       "       36.77425366, 33.15265201, 19.67545976, 31.93505104, 33.55222906,\n",
       "       25.59147737, 40.59239607, 17.99555017, 19.92780188, 23.65319423,\n",
       "       33.48950986])"
      ]
     },
     "execution_count": 20,
     "metadata": {},
     "output_type": "execute_result"
    }
   ],
   "source": [
    "# 讀取資料集\n",
    "boston = datasets.load_boston()\n",
    "X = pd.DataFrame(boston[\"data\"],columns=boston[\"feature_names\"])\n",
    "Y = boston[\"target\"]\n",
    "# 切資料\n",
    "x_train, x_test, y_train, y_test = train_test_split(X,Y, test_size=0.1, random_state=4)\n",
    "# model\n",
    "reg = linear_model.LinearRegression()\n",
    "reg.fit(x_train,y_train)\n",
    "pre = reg.predict(x_test)\n",
    "pre"
   ]
  },
  {
   "cell_type": "code",
   "execution_count": 24,
   "metadata": {},
   "outputs": [
    {
     "name": "stdout",
     "output_type": "stream",
     "text": [
      "Coefficients:  [-1.25856659e-01  4.84257396e-02  1.84085281e-02  3.08509569e+00\n",
      " -1.73277018e+01  3.61674713e+00  2.19181853e-03 -1.49361132e+00\n",
      "  3.19979200e-01 -1.27294649e-02 -9.27469086e-01  9.50912468e-03\n",
      " -5.33592471e-01]\n",
      "Mean squared error: 17.04\n"
     ]
    }
   ],
   "source": [
    "# 可以看回歸模型的參數值\n",
    "print('Coefficients: ', reg.coef_)\n",
    "\n",
    "# 預測值與實際值的差距，使用 MSE\n",
    "print(\"Mean squared error: %.2f\"\n",
    "      % mean_squared_error(y_test, pre))"
   ]
  },
  {
   "cell_type": "markdown",
   "metadata": {},
   "source": [
    "## logistics regression - wine data"
   ]
  },
  {
   "cell_type": "code",
   "execution_count": 34,
   "metadata": {},
   "outputs": [
    {
     "data": {
      "text/plain": [
       "array([2, 2, 0, 0, 1, 2, 0, 0, 0, 1, 1, 0, 2, 2, 0, 1, 0, 1])"
      ]
     },
     "execution_count": 34,
     "metadata": {},
     "output_type": "execute_result"
    }
   ],
   "source": [
    "# 讀取資料集\n",
    "wine = datasets.load_wine()\n",
    "X = pd.DataFrame(wine[\"data\"],columns=wine[\"feature_names\"])\n",
    "Y = wine[\"target\"]\n",
    "# 切資料\n",
    "x_train, x_test, y_train, y_test = train_test_split(X,Y, test_size=0.1, random_state=4)\n",
    "# model\n",
    "lreg = linear_model.LogisticRegression()\n",
    "lreg.fit(x_train,y_train)\n",
    "pre = lreg.predict(x_test)\n",
    "pre"
   ]
  },
  {
   "cell_type": "code",
   "execution_count": 35,
   "metadata": {},
   "outputs": [
    {
     "name": "stdout",
     "output_type": "stream",
     "text": [
      "Accuracy:  0.9444444444444444\n"
     ]
    }
   ],
   "source": [
    "acc = accuracy_score(y_test, pre)\n",
    "print(\"Accuracy: \", acc)"
   ]
  }
 ],
 "metadata": {
  "kernelspec": {
   "display_name": "Python 3",
   "language": "python",
   "name": "python3"
  },
  "language_info": {
   "codemirror_mode": {
    "name": "ipython",
    "version": 3
   },
   "file_extension": ".py",
   "mimetype": "text/x-python",
   "name": "python",
   "nbconvert_exporter": "python",
   "pygments_lexer": "ipython3",
   "version": "3.7.4"
  }
 },
 "nbformat": 4,
 "nbformat_minor": 2
}
