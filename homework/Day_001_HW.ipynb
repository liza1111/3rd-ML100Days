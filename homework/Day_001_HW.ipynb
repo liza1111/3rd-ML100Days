{
 "cells": [
  {
   "cell_type": "markdown",
   "metadata": {},
   "source": [
    "練習時間\n",
    "請寫一個函式用來計算 Mean Square Error\n",
    "$ MSE = \\frac{1}{n}\\sum_{i=1}^{n}{(Y_i - \\hat{Y}_i)^2} $\n",
    "\n",
    "Hint: 如何取平方\n",
    "[作業目標]\n",
    "仿造範例的MAE函數, 自己寫一個MSE函數(參考上面公式)\n",
    "[作業重點]\n",
    "注意程式的縮排\n",
    "是否能將數學公式, 轉換為 Python 的函式組合? (In[2], Out[2])"
   ]
  },
  {
   "cell_type": "code",
   "execution_count": 1,
   "metadata": {},
   "outputs": [],
   "source": [
    "# 載入基礎套件與代稱\n",
    "import numpy as np\n",
    "import matplotlib.pyplot as plt"
   ]
  },
  {
   "cell_type": "code",
   "execution_count": 2,
   "metadata": {},
   "outputs": [],
   "source": [
    "def mean_absolute_error(y, yp):\n",
    "    \"\"\"\n",
    "    計算 MAE\n",
    "    Args:\n",
    "        - y: 實際值\n",
    "        - yp: 預測值\n",
    "    Return:\n",
    "        - mae: MAE\n",
    "    \"\"\"\n",
    "    mae = MAE = sum(abs(y - yp)) / len(y)\n",
    "    return mae\n",
    "\n",
    "# 定義 mean_squared_error 這個函數, 計算並傳回 MSE\n",
    "def mean_squared_error(y, yp):\n",
    "    \"\"\"\n",
    "    計算 MSE\n",
    "    Args:\n",
    "        -y: 實際值\n",
    "        -yp: 預測值\n",
    "    Return:\n",
    "        -mse: MSE\n",
    "    \"\"\"\n",
    "    mse = MSE = sum((y-yp)**2) / len(y)\n",
    "    return mse"
   ]
  },
  {
   "cell_type": "code",
   "execution_count": 3,
   "metadata": {},
   "outputs": [
    {
     "data": {
      "image/png": "[encoded data removed]",
      "text/plain": [
       "<Figure size 432x288 with 1 Axes>"
      ]
     },
     "metadata": {
      "needs_background": "light"
     },
     "output_type": "display_data"
    }
   ],
   "source": [
    "# 與範例相同, 不另外解說\n",
    "w = 3\n",
    "b = 0.5\n",
    "x_lin = np.linspace(0, 100, 101)\n",
    "y = (x_lin + np.random.randn(101) * 5) * w + b\n",
    "\n",
    "plt.plot(x_lin, y, 'b.', label = 'data points')\n",
    "plt.title(\"Assume we have data points\")\n",
    "plt.legend(loc = 2)\n",
    "plt.show()"
   ]
  },
  {
   "cell_type": "code",
   "execution_count": 4,
   "metadata": {},
   "outputs": [
    {
     "data": {
      "image/png": "[encoded data removed]",
      "text/plain": [
       "<Figure size 432x288 with 1 Axes>"
      ]
     },
     "metadata": {
      "needs_background": "light"
     },
     "output_type": "display_data"
    }
   ],
   "source": [
    "\n",
    "# 與範例相同, 不另外解說\n",
    "y_hat = x_lin * w + b\n",
    "plt.plot(x_lin, y, 'b.', label = 'data')\n",
    "plt.plot(x_lin, y_hat, 'r-', label = 'prediction')\n",
    "plt.title(\"Assume we have data points (And the prediction)\")\n",
    "plt.legend(loc = 2)\n",
    "plt.show()"
   ]
  },
  {
   "cell_type": "code",
   "execution_count": 5,
   "metadata": {},
   "outputs": [
    {
     "name": "stdout",
     "output_type": "stream",
     "text": [
      "The Mean squared error is 228.731\n",
      "The Mean absolute error is 12.048\n"
     ]
    }
   ],
   "source": [
    "# 執行 Function, 確認有沒有正常執行\n",
    "MSE = mean_squared_error(y, y_hat)\n",
    "MAE = mean_absolute_error(y, y_hat)\n",
    "print(\"The Mean squared error is %.3f\" % (MSE))\n",
    "print(\"The Mean absolute error is %.3f\" % (MAE))"
   ]
  },
  {
   "cell_type": "markdown",
   "metadata": {},
   "source": [
    "# [作業2]"
   ]
  },
  {
   "cell_type": "markdown",
   "metadata": {},
   "source": [
    "請上 Kaggle, 在 Competitions 或 Dataset 中找一組競賽或資料並寫下：\n",
    "\n",
    "你選的這組資料為何重要\n",
    "https://www.kaggle.com/vjchoudhary7/customer-segmentation-tutorial-in-python\n",
    "*可解決企業核心問題 - 做顧客分群，提升行銷策略效益，提升ROI\n",
    "\n",
    "\n",
    "資料從何而來 (tips: 譬如提供者是誰、以什麼方式蒐集)\n",
    "*supermarket mall 提供內部顧客基本資料\n",
    "\n",
    "蒐集而來的資料型態為何\n",
    "*結構化資料,csv檔案 (包含ID,gender,age,annual income,spending score)\n",
    "*spending score為mall依據顧客消費行為及消費型態加權出來的分數\n",
    "\n",
    "這組資料想解決的問題如何評估\n",
    "*顧客分群 - 可使用clustering處理，並依據sihoutte_scores進行評估"
   ]
  },
  {
   "cell_type": "markdown",
   "metadata": {},
   "source": [
    "# [作業3]"
   ]
  },
  {
   "cell_type": "markdown",
   "metadata": {},
   "source": [
    "想像你經營一個自由載客車隊，你希望能透過數據分析以提升業績，請你思考並描述你如何規劃整體的分析/解決方案：\n",
    "\n",
    "核心問題為何 (tips：如何定義 「提升業績 & 你的假設」)\n",
    "\n",
    "A : (1)提升載客量，降低空車率\n",
    "    (2)不同區域及時間的乘車需求熱點預測 - 可做推薦優化市場經營\n",
    "\n",
    "資料從何而來 (tips：哪些資料可能會對你想問的問題產生影響 & 資料如何蒐集)\n",
    "\n",
    "A:(1) 內部司機載客資料(載客筆數.載客地點.載客時間.每趟載客區間..)  (2) 司機基本資料: 年齡.執業時間.車款.性別... \n",
    "  (3) 顧客回饋資料(顧客評分,顧客評論..)                          (4) 政府open data: 區域人流量....\n",
    "\n",
    "蒐集而來的資料型態為何\n",
    "\n",
    "A:結構化資料\n",
    "\n",
    "你要回答的問題，其如何評估 (tips：你的假設如何驗證)\n",
    "\n",
    "A:可利用監督式學習，用決策樹.XGBOOST等演算法找出空車率的關鍵要素，進行調整提升載客率，可用feature_importance_找出影響最大關鍵，並看混淆矩陣確認相關準確率；並藉由XGBOOST.回歸等方法預測不同區域及時間的乘車需求。(可以MSE.R SQUARE等確認)"
   ]
  }
 ],
 "metadata": {
  "kernelspec": {
   "display_name": "Python 3",
   "language": "python",
   "name": "python3"
  },
  "language_info": {
   "codemirror_mode": {
    "name": "ipython",
    "version": 3
   },
   "file_extension": ".py",
   "mimetype": "text/x-python",
   "name": "python",
   "nbconvert_exporter": "python",
   "pygments_lexer": "ipython3",
   "version": "3.7.0"
  }
 },
 "nbformat": 4,
 "nbformat_minor": 2
}
